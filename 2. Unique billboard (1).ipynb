{
 "cells": [
  {
   "cell_type": "code",
   "execution_count": 37,
   "id": "2873930d",
   "metadata": {},
   "outputs": [],
   "source": [
    "import pandas as pd\n",
    "\n",
    "data=pd.read_csv('billboard.csv',header=None)"
   ]
  },
  {
   "cell_type": "code",
   "execution_count": 38,
   "id": "b55b18a6",
   "metadata": {},
   "outputs": [],
   "source": [
    "data.columns = ['track', 'artist', 'date']"
   ]
  },
  {
   "cell_type": "code",
   "execution_count": 39,
   "id": "33ab1a03",
   "metadata": {},
   "outputs": [
    {
     "data": {
      "text/html": [
       "<div>\n",
       "<style scoped>\n",
       "    .dataframe tbody tr th:only-of-type {\n",
       "        vertical-align: middle;\n",
       "    }\n",
       "\n",
       "    .dataframe tbody tr th {\n",
       "        vertical-align: top;\n",
       "    }\n",
       "\n",
       "    .dataframe thead th {\n",
       "        text-align: right;\n",
       "    }\n",
       "</style>\n",
       "<table border=\"1\" class=\"dataframe\">\n",
       "  <thead>\n",
       "    <tr style=\"text-align: right;\">\n",
       "      <th></th>\n",
       "      <th>track</th>\n",
       "      <th>artist</th>\n",
       "      <th>date</th>\n",
       "    </tr>\n",
       "  </thead>\n",
       "  <tbody>\n",
       "    <tr>\n",
       "      <th>0</th>\n",
       "      <td>Firework</td>\n",
       "      <td>Katy Perry</td>\n",
       "      <td>25/12/2010</td>\n",
       "    </tr>\n",
       "    <tr>\n",
       "      <th>1</th>\n",
       "      <td>What's My Name?</td>\n",
       "      <td>Rihanna Featuring Drake</td>\n",
       "      <td>25/12/2010</td>\n",
       "    </tr>\n",
       "    <tr>\n",
       "      <th>2</th>\n",
       "      <td>Grenade</td>\n",
       "      <td>Bruno Mars</td>\n",
       "      <td>25/12/2010</td>\n",
       "    </tr>\n",
       "    <tr>\n",
       "      <th>3</th>\n",
       "      <td>Raise Your Glass</td>\n",
       "      <td>P!nk</td>\n",
       "      <td>25/12/2010</td>\n",
       "    </tr>\n",
       "    <tr>\n",
       "      <th>4</th>\n",
       "      <td>We R Who We R</td>\n",
       "      <td>Ke$ha</td>\n",
       "      <td>25/12/2010</td>\n",
       "    </tr>\n",
       "    <tr>\n",
       "      <th>5</th>\n",
       "      <td>Only Girl (In The World)</td>\n",
       "      <td>Rihanna</td>\n",
       "      <td>25/12/2010</td>\n",
       "    </tr>\n",
       "    <tr>\n",
       "      <th>6</th>\n",
       "      <td>Just The Way You Are</td>\n",
       "      <td>Bruno Mars</td>\n",
       "      <td>25/12/2010</td>\n",
       "    </tr>\n",
       "    <tr>\n",
       "      <th>7</th>\n",
       "      <td>The Time (Dirty Bit)</td>\n",
       "      <td>The Black Eyed Peas</td>\n",
       "      <td>25/12/2010</td>\n",
       "    </tr>\n",
       "    <tr>\n",
       "      <th>8</th>\n",
       "      <td>Just A Dream</td>\n",
       "      <td>Nelly</td>\n",
       "      <td>25/12/2010</td>\n",
       "    </tr>\n",
       "    <tr>\n",
       "      <th>9</th>\n",
       "      <td>Bottoms Up</td>\n",
       "      <td>Trey Songz Featuring Nicki Minaj</td>\n",
       "      <td>25/12/2010</td>\n",
       "    </tr>\n",
       "  </tbody>\n",
       "</table>\n",
       "</div>"
      ],
      "text/plain": [
       "                      track                            artist        date\n",
       "0                  Firework                        Katy Perry  25/12/2010\n",
       "1           What's My Name?           Rihanna Featuring Drake  25/12/2010\n",
       "2                   Grenade                        Bruno Mars  25/12/2010\n",
       "3          Raise Your Glass                              P!nk  25/12/2010\n",
       "4             We R Who We R                             Ke$ha  25/12/2010\n",
       "5  Only Girl (In The World)                           Rihanna  25/12/2010\n",
       "6      Just The Way You Are                        Bruno Mars  25/12/2010\n",
       "7      The Time (Dirty Bit)               The Black Eyed Peas  25/12/2010\n",
       "8              Just A Dream                             Nelly  25/12/2010\n",
       "9                Bottoms Up  Trey Songz Featuring Nicki Minaj  25/12/2010"
      ]
     },
     "execution_count": 39,
     "metadata": {},
     "output_type": "execute_result"
    }
   ],
   "source": [
    "data[:10]"
   ]
  },
  {
   "cell_type": "code",
   "execution_count": 26,
   "id": "204d94cf",
   "metadata": {},
   "outputs": [
    {
     "name": "stdout",
     "output_type": "stream",
     "text": [
      "<class 'pandas.core.frame.DataFrame'>\n",
      "RangeIndex: 109500 entries, 0 to 109499\n",
      "Data columns (total 3 columns):\n",
      " #   Column  Non-Null Count   Dtype \n",
      "---  ------  --------------   ----- \n",
      " 0   0       109500 non-null  object\n",
      " 1   1       109500 non-null  object\n",
      " 2   2       109500 non-null  object\n",
      "dtypes: object(3)\n",
      "memory usage: 2.5+ MB\n"
     ]
    }
   ],
   "source": [
    "data.info()"
   ]
  },
  {
   "cell_type": "code",
   "execution_count": 33,
   "id": "b725ac7e",
   "metadata": {},
   "outputs": [],
   "source": [
    "no_duplicates = data.drop_duplicates(\n",
    "  subset = ['track', 'artist']).reset_index(drop = True)"
   ]
  },
  {
   "cell_type": "code",
   "execution_count": 34,
   "id": "56f6a6af",
   "metadata": {},
   "outputs": [
    {
     "name": "stdout",
     "output_type": "stream",
     "text": [
      "<class 'pandas.core.frame.DataFrame'>\n",
      "RangeIndex: 7419 entries, 0 to 7418\n",
      "Data columns (total 3 columns):\n",
      " #   Column  Non-Null Count  Dtype \n",
      "---  ------  --------------  ----- \n",
      " 0   track   7419 non-null   object\n",
      " 1   artist  7419 non-null   object\n",
      " 2   date    7419 non-null   object\n",
      "dtypes: object(3)\n",
      "memory usage: 174.0+ KB\n"
     ]
    }
   ],
   "source": [
    "no_duplicates.info()"
   ]
  },
  {
   "cell_type": "code",
   "execution_count": 35,
   "id": "7060fc1e",
   "metadata": {},
   "outputs": [
    {
     "data": {
      "text/html": [
       "<div>\n",
       "<style scoped>\n",
       "    .dataframe tbody tr th:only-of-type {\n",
       "        vertical-align: middle;\n",
       "    }\n",
       "\n",
       "    .dataframe tbody tr th {\n",
       "        vertical-align: top;\n",
       "    }\n",
       "\n",
       "    .dataframe thead th {\n",
       "        text-align: right;\n",
       "    }\n",
       "</style>\n",
       "<table border=\"1\" class=\"dataframe\">\n",
       "  <thead>\n",
       "    <tr style=\"text-align: right;\">\n",
       "      <th></th>\n",
       "      <th>track</th>\n",
       "      <th>artist</th>\n",
       "      <th>date</th>\n",
       "    </tr>\n",
       "  </thead>\n",
       "  <tbody>\n",
       "    <tr>\n",
       "      <th>0</th>\n",
       "      <td>Firework</td>\n",
       "      <td>Katy Perry</td>\n",
       "      <td>25/12/2010</td>\n",
       "    </tr>\n",
       "    <tr>\n",
       "      <th>1</th>\n",
       "      <td>What's My Name?</td>\n",
       "      <td>Rihanna Featuring Drake</td>\n",
       "      <td>25/12/2010</td>\n",
       "    </tr>\n",
       "    <tr>\n",
       "      <th>2</th>\n",
       "      <td>Grenade</td>\n",
       "      <td>Bruno Mars</td>\n",
       "      <td>25/12/2010</td>\n",
       "    </tr>\n",
       "    <tr>\n",
       "      <th>3</th>\n",
       "      <td>Raise Your Glass</td>\n",
       "      <td>P!nk</td>\n",
       "      <td>25/12/2010</td>\n",
       "    </tr>\n",
       "    <tr>\n",
       "      <th>4</th>\n",
       "      <td>We R Who We R</td>\n",
       "      <td>Ke$ha</td>\n",
       "      <td>25/12/2010</td>\n",
       "    </tr>\n",
       "    <tr>\n",
       "      <th>5</th>\n",
       "      <td>Only Girl (In The World)</td>\n",
       "      <td>Rihanna</td>\n",
       "      <td>25/12/2010</td>\n",
       "    </tr>\n",
       "    <tr>\n",
       "      <th>6</th>\n",
       "      <td>Just The Way You Are</td>\n",
       "      <td>Bruno Mars</td>\n",
       "      <td>25/12/2010</td>\n",
       "    </tr>\n",
       "    <tr>\n",
       "      <th>7</th>\n",
       "      <td>The Time (Dirty Bit)</td>\n",
       "      <td>The Black Eyed Peas</td>\n",
       "      <td>25/12/2010</td>\n",
       "    </tr>\n",
       "    <tr>\n",
       "      <th>8</th>\n",
       "      <td>Just A Dream</td>\n",
       "      <td>Nelly</td>\n",
       "      <td>25/12/2010</td>\n",
       "    </tr>\n",
       "    <tr>\n",
       "      <th>9</th>\n",
       "      <td>Bottoms Up</td>\n",
       "      <td>Trey Songz Featuring Nicki Minaj</td>\n",
       "      <td>25/12/2010</td>\n",
       "    </tr>\n",
       "  </tbody>\n",
       "</table>\n",
       "</div>"
      ],
      "text/plain": [
       "                      track                            artist        date\n",
       "0                  Firework                        Katy Perry  25/12/2010\n",
       "1           What's My Name?           Rihanna Featuring Drake  25/12/2010\n",
       "2                   Grenade                        Bruno Mars  25/12/2010\n",
       "3          Raise Your Glass                              P!nk  25/12/2010\n",
       "4             We R Who We R                             Ke$ha  25/12/2010\n",
       "5  Only Girl (In The World)                           Rihanna  25/12/2010\n",
       "6      Just The Way You Are                        Bruno Mars  25/12/2010\n",
       "7      The Time (Dirty Bit)               The Black Eyed Peas  25/12/2010\n",
       "8              Just A Dream                             Nelly  25/12/2010\n",
       "9                Bottoms Up  Trey Songz Featuring Nicki Minaj  25/12/2010"
      ]
     },
     "execution_count": 35,
     "metadata": {},
     "output_type": "execute_result"
    }
   ],
   "source": [
    "no_duplicates[:10]"
   ]
  },
  {
   "cell_type": "code",
   "execution_count": 36,
   "id": "313db964",
   "metadata": {},
   "outputs": [],
   "source": [
    "no_duplicates.to_csv(\"billboard_unique.csv\")"
   ]
  },
  {
   "cell_type": "code",
   "execution_count": null,
   "id": "e3c2b249",
   "metadata": {},
   "outputs": [],
   "source": []
  }
 ],
 "metadata": {
  "kernelspec": {
   "display_name": "Python 3",
   "language": "python",
   "name": "python3"
  },
  "language_info": {
   "codemirror_mode": {
    "name": "ipython",
    "version": 3
   },
   "file_extension": ".py",
   "mimetype": "text/x-python",
   "name": "python",
   "nbconvert_exporter": "python",
   "pygments_lexer": "ipython3",
   "version": "3.8.8"
  }
 },
 "nbformat": 4,
 "nbformat_minor": 5
}
